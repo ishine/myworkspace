{
 "cells": [
  {
   "cell_type": "markdown",
   "metadata": {},
   "source": [
    "# 作业第16讲"
   ]
  },
  {
   "cell_type": "code",
   "execution_count": 1,
   "metadata": {},
   "outputs": [],
   "source": [
    "import numpy as np"
   ]
  },
  {
   "cell_type": "markdown",
   "metadata": {},
   "source": [
    "# 矩阵C"
   ]
  },
  {
   "cell_type": "code",
   "execution_count": 2,
   "metadata": {},
   "outputs": [],
   "source": [
    "C = np.array([\n",
    "    [1, 0, 0, 0, 0, 1],\n",
    "    [0, 1, 0, 0, 0, 0],\n",
    "    [0, 1, 0, 0, 0, 0],\n",
    "    [0, 0, 1, 0, 0, 0],\n",
    "    [0, 0, 1, 0, 0, 0],\n",
    "    [0, 0, 0, 1, 1, 0],\n",
    "    [0, 0, 0, 1, 0, 0],\n",
    "    [0, 0, 0, 0, 1, 0],\n",
    "    [0, 0, 0, 0, 1, 0],\n",
    "    [0, 0, 0, 0, 0, 1],\n",
    "    [0, 0, 0, 0, 0, 1]\n",
    "])"
   ]
  },
  {
   "cell_type": "markdown",
   "metadata": {},
   "source": [
    "# 奇异值分解"
   ]
  },
  {
   "cell_type": "code",
   "execution_count": 3,
   "metadata": {},
   "outputs": [],
   "source": [
    "U, Sigma, VT = np.linalg.svd(C)"
   ]
  },
  {
   "cell_type": "markdown",
   "metadata": {},
   "source": [
    "# U2"
   ]
  },
  {
   "cell_type": "code",
   "execution_count": 4,
   "metadata": {},
   "outputs": [
    {
     "name": "stdout",
     "output_type": "stream",
     "text": [
      "[[ 0.        0.707107]\n",
      " [ 0.        0.      ]\n",
      " [-0.        0.      ]\n",
      " [ 0.        0.      ]\n",
      " [-0.        0.      ]\n",
      " [-0.723607  0.      ]\n",
      " [-0.276393  0.      ]\n",
      " [-0.447214  0.      ]\n",
      " [-0.447214  0.      ]\n",
      " [ 0.        0.5     ]\n",
      " [ 0.        0.5     ]]\n"
     ]
    }
   ],
   "source": [
    "# 保留前两列\n",
    "U2 = U[:,:2]\n",
    "print(U2.round(6))"
   ]
  },
  {
   "cell_type": "markdown",
   "metadata": {},
   "source": [
    "# Sigma2"
   ]
  },
  {
   "cell_type": "code",
   "execution_count": 5,
   "metadata": {},
   "outputs": [
    {
     "name": "stdout",
     "output_type": "stream",
     "text": [
      "[[1.902113 0.      ]\n",
      " [0.       1.847759]]\n"
     ]
    }
   ],
   "source": [
    "# 保留前两个特征值, 并张成对角矩阵\n",
    "Sigma2 = np.diag(Sigma[:2])\n",
    "print(Sigma2.round(6))"
   ]
  },
  {
   "cell_type": "markdown",
   "metadata": {},
   "source": [
    "# VT2"
   ]
  },
  {
   "cell_type": "code",
   "execution_count": 6,
   "metadata": {},
   "outputs": [
    {
     "name": "stdout",
     "output_type": "stream",
     "text": [
      "[[-0.        0.        0.       -0.525731 -0.850651  0.      ]\n",
      " [ 0.382683  0.        0.        0.        0.        0.92388 ]]\n"
     ]
    }
   ],
   "source": [
    "# 保留前两行\n",
    "VT2 = VT[:2,:]\n",
    "print(VT2.round(6))"
   ]
  },
  {
   "cell_type": "markdown",
   "metadata": {},
   "source": [
    "# 2-秩逼近矩阵C2"
   ]
  },
  {
   "cell_type": "code",
   "execution_count": 7,
   "metadata": {},
   "outputs": [
    {
     "name": "stdout",
     "output_type": "stream",
     "text": [
      "[[ 0.5       0.        0.        0.        0.        1.207107]\n",
      " [ 0.        0.        0.       -0.       -0.        0.      ]\n",
      " [ 0.        0.        0.        0.        0.        0.      ]\n",
      " [ 0.        0.        0.       -0.       -0.        0.      ]\n",
      " [ 0.        0.        0.        0.        0.        0.      ]\n",
      " [ 0.        0.        0.        0.723607  1.17082   0.      ]\n",
      " [ 0.        0.        0.        0.276393  0.447214  0.      ]\n",
      " [ 0.        0.        0.        0.447214  0.723607  0.      ]\n",
      " [ 0.        0.        0.        0.447214  0.723607  0.      ]\n",
      " [ 0.353553  0.        0.        0.        0.        0.853553]\n",
      " [ 0.353553  0.        0.        0.        0.        0.853553]]\n"
     ]
    }
   ],
   "source": [
    "C2 = np.around(np.matmul(np.matmul(U2, Sigma2), VT2), 6)\n",
    "print(C2.round(6))"
   ]
  }
 ],
 "metadata": {
  "kernelspec": {
   "display_name": "tf1.15.0",
   "language": "python",
   "name": "tf1.15.0"
  },
  "language_info": {
   "codemirror_mode": {
    "name": "ipython",
    "version": 3
   },
   "file_extension": ".py",
   "mimetype": "text/x-python",
   "name": "python",
   "nbconvert_exporter": "python",
   "pygments_lexer": "ipython3",
   "version": "3.7.9"
  }
 },
 "nbformat": 4,
 "nbformat_minor": 4
}
